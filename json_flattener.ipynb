{
 "cells": [
  {
   "cell_type": "code",
   "execution_count": 800,
   "metadata": {},
   "outputs": [],
   "source": [
    "import json\n",
    "from pprint import pprint\n",
    "from itertools import compress"
   ]
  },
  {
   "cell_type": "markdown",
   "metadata": {},
   "source": [
    "### Load data"
   ]
  },
  {
   "cell_type": "code",
   "execution_count": 830,
   "metadata": {},
   "outputs": [],
   "source": [
    "data = json.load(open('donuts_original.json'))\n",
    "#data = json.load(open('startups_original.json'))\n",
    "#data = json.load(open('restaurants_original.json'))\n",
    "#data = json.load(open('accounts_original.json'))"
   ]
  },
  {
   "cell_type": "markdown",
   "metadata": {},
   "source": [
    "### Store data"
   ]
  },
  {
   "cell_type": "code",
   "execution_count": 831,
   "metadata": {},
   "outputs": [],
   "source": [
    "def store_dict(key, value):\n",
    "    if key in store_data:\n",
    "        store_data[key].append(value)\n",
    "    else:\n",
    "        lst = []\n",
    "        lst.append(value)\n",
    "        store_data.setdefault(key, [])\n",
    "        store_data[key] = lst"
   ]
  },
  {
   "cell_type": "markdown",
   "metadata": {},
   "source": [
    "### Write JSON files from topmost keys"
   ]
  },
  {
   "cell_type": "code",
   "execution_count": 832,
   "metadata": {},
   "outputs": [],
   "source": [
    "def write_JSON_files(d):\n",
    "    print(\"Writing JSON files:\\n\")\n",
    "    for i in d.keys():\n",
    "        fname = i + '.json'\n",
    "        print(fname)\n",
    "        with open(fname, 'w') as outfile:\n",
    "            json.dump(d[i], outfile)"
   ]
  },
  {
   "cell_type": "markdown",
   "metadata": {},
   "source": [
    "### Get primitive data types"
   ]
  },
  {
   "cell_type": "code",
   "execution_count": 833,
   "metadata": {},
   "outputs": [],
   "source": [
    "def get_primitive_data_types(ele):\n",
    "    store_type = []\n",
    "    \n",
    "    if (isinstance(ele, dict) or isinstance(ele, list)):\n",
    "    \n",
    "        for i in ele.keys():\n",
    "            store_type.append(type(ele[i]))\n",
    "\n",
    "        filter = []\n",
    "\n",
    "        for j in store_type:\n",
    "            filter.append((not issubclass(j, dict) and not issubclass(j, list)))\n",
    "\n",
    "        new_dict = { your_key: ele[your_key] for your_key in list(compress(ele.keys(), filter)) }\n",
    "\n",
    "        return new_dict\n",
    "    else:\n",
    "        return ele"
   ]
  },
  {
   "cell_type": "markdown",
   "metadata": {},
   "source": [
    "### Flatten JSON"
   ]
  },
  {
   "cell_type": "code",
   "execution_count": 834,
   "metadata": {},
   "outputs": [],
   "source": [
    "def flatten_json(d,parent_key=None):\n",
    "    \n",
    "    # The topmost parent obtained here\n",
    "    if parent_key == None:\n",
    "        parent_key = list(d.keys())[0] \n",
    "    \n",
    "    if (not isinstance(d, int)):\n",
    "        for k,v in d.items():\n",
    "\n",
    "            if k != parent_key:\n",
    "                new_parent_key = parent_key+'_'+k\n",
    "            else:\n",
    "                new_parent_key = k\n",
    "\n",
    "            # Handle an incoming list\n",
    "            if isinstance(v, list):    \n",
    "                for k in range(0, len(v)):\n",
    "                    #print(k)\n",
    "                    #print(\"\\nA list --> [\",new_parent_key,\"]\", get_primitive_data_types(v[k]), '\\n')\n",
    "\n",
    "                    # Store the data in memory\n",
    "                    store_dict(new_parent_key, get_primitive_data_types(v[k]))\n",
    "\n",
    "                for i in range(1,len(v)+1):\n",
    "                    flatten_json(v[i-1], new_parent_key)\n",
    "\n",
    "            # Handle an incoming dict\n",
    "            elif isinstance(v, dict):\n",
    "                #print(\"A dict --> [\",new_parent_key,\"]\", v, '\\n')\n",
    "\n",
    "                # Store the data in memory\n",
    "                store_dict(new_parent_key, v)\n",
    "\n",
    "                flatten_json(v, new_parent_key)\n",
    "    else:\n",
    "        store_dict(parent_key, d)"
   ]
  },
  {
   "cell_type": "markdown",
   "metadata": {},
   "source": [
    "### Test flatten JSON"
   ]
  },
  {
   "cell_type": "code",
   "execution_count": 835,
   "metadata": {},
   "outputs": [
    {
     "name": "stdout",
     "output_type": "stream",
     "text": [
      "<class 'dict'>\n",
      "<class 'dict'>\n",
      "<class 'dict'>\n",
      "<class 'dict'>\n",
      "<class 'dict'>\n",
      "<class 'dict'>\n",
      "<class 'dict'>\n",
      "<class 'dict'>\n",
      "<class 'dict'>\n",
      "<class 'dict'>\n",
      "<class 'dict'>\n",
      "<class 'dict'>\n"
     ]
    }
   ],
   "source": [
    "store_data = {}\n",
    "\n",
    "flatten_json(data)"
   ]
  },
  {
   "cell_type": "markdown",
   "metadata": {},
   "source": [
    "### Pretty print the JSON stored data in memory"
   ]
  },
  {
   "cell_type": "code",
   "execution_count": 836,
   "metadata": {},
   "outputs": [
    {
     "name": "stdout",
     "output_type": "stream",
     "text": [
      "{\n",
      "   \"donuts\": [\n",
      "      {\n",
      "         \"calories\": 550,\n",
      "         \"id\": \"1\",\n",
      "         \"name\": \"chocolate frosted\",\n",
      "         \"type\": \"donut\"\n",
      "      }\n",
      "   ],\n",
      "   \"donuts_batter\": [\n",
      "      {\n",
      "         \"types\": [\n",
      "            {\n",
      "               \"type\": \"Regular\"\n",
      "            },\n",
      "            {\n",
      "               \"type\": \"Chocolate\"\n",
      "            },\n",
      "            {\n",
      "               \"type\": \"Blueberry\"\n",
      "            },\n",
      "            {\n",
      "               \"type\": \"Devil's Food\"\n",
      "            }\n",
      "         ]\n",
      "      }\n",
      "   ],\n",
      "   \"donuts_batter_types\": [\n",
      "      {\n",
      "         \"type\": \"Regular\"\n",
      "      },\n",
      "      {\n",
      "         \"type\": \"Chocolate\"\n",
      "      },\n",
      "      {\n",
      "         \"type\": \"Blueberry\"\n",
      "      },\n",
      "      {\n",
      "         \"type\": \"Devil's Food\"\n",
      "      }\n",
      "   ],\n",
      "   \"donuts_toppings\": [\n",
      "      {\n",
      "         \"type\": \"None\"\n",
      "      },\n",
      "      {\n",
      "         \"type\": \"Glazed\"\n",
      "      },\n",
      "      {\n",
      "         \"type\": \"Sugar\"\n",
      "      },\n",
      "      {\n",
      "         \"type\": \"Powdered Sugar\"\n",
      "      },\n",
      "      {\n",
      "         \"type\": \"Chocolate with Sprinkles\"\n",
      "      },\n",
      "      {\n",
      "         \"type\": \"Chocolate\"\n",
      "      },\n",
      "      {\n",
      "         \"type\": \"Maple\"\n",
      "      }\n",
      "   ]\n",
      "}\n"
     ]
    }
   ],
   "source": [
    "print(json.dumps(store_data, indent=3))"
   ]
  },
  {
   "cell_type": "markdown",
   "metadata": {},
   "source": [
    "### Test writing to files"
   ]
  },
  {
   "cell_type": "code",
   "execution_count": 829,
   "metadata": {},
   "outputs": [
    {
     "name": "stdout",
     "output_type": "stream",
     "text": [
      "Writing JSON files:\n",
      "\n",
      "restaurants.json\n",
      "restaurants_address.json\n",
      "restaurants_grades.json\n",
      "restaurants_grades_score.json\n"
     ]
    }
   ],
   "source": [
    "write_JSON_files(store_data)"
   ]
  },
  {
   "cell_type": "code",
   "execution_count": null,
   "metadata": {},
   "outputs": [],
   "source": []
  }
 ],
 "metadata": {
  "kernelspec": {
   "display_name": "Python 3",
   "language": "python",
   "name": "python3"
  },
  "language_info": {
   "codemirror_mode": {
    "name": "ipython",
    "version": 3
   },
   "file_extension": ".py",
   "mimetype": "text/x-python",
   "name": "python",
   "nbconvert_exporter": "python",
   "pygments_lexer": "ipython3",
   "version": "3.6.0"
  }
 },
 "nbformat": 4,
 "nbformat_minor": 2
}
