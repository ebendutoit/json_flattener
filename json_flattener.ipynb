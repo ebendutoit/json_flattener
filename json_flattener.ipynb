{
 "cells": [
  {
   "cell_type": "code",
   "execution_count": 363,
   "metadata": {},
   "outputs": [],
   "source": [
    "import json\n",
    "from pprint import pprint\n",
    "from itertools import compress"
   ]
  },
  {
   "cell_type": "markdown",
   "metadata": {},
   "source": [
    "### Load data"
   ]
  },
  {
   "cell_type": "code",
   "execution_count": null,
   "metadata": {},
   "outputs": [],
   "source": [
    "#data = json.load(open('donuts.json'))\n",
    "#data = json.load(open('startups.json'))\n",
    "data = json.load(open('restaurants.json'))"
   ]
  },
  {
   "cell_type": "markdown",
   "metadata": {},
   "source": [
    "### Store data"
   ]
  },
  {
   "cell_type": "code",
   "execution_count": 665,
   "metadata": {},
   "outputs": [],
   "source": [
    "def store_dict(key, value):\n",
    "    print(key)\n",
    "    print(value)\n",
    "    if key in store_data:\n",
    "        ####>>>>>>\n",
    "        lst = []\n",
    "        lst.append(store_data[key])\n",
    "        lst.append(value)\n",
    "        print(\"Appended list for key\", key, \" --> \", lst)\n",
    "        store_data[key] = lst\n",
    "    else:\n",
    "        lst = []\n",
    "        lst.append(value)\n",
    "        store_data.setdefault(key, [])\n",
    "        store_data[key] = lst"
   ]
  },
  {
   "cell_type": "markdown",
   "metadata": {},
   "source": [
    "### Write JSON files from topmost keys"
   ]
  },
  {
   "cell_type": "code",
   "execution_count": 666,
   "metadata": {},
   "outputs": [],
   "source": [
    "def write_JSON_files(d):\n",
    "    print(\"Writing JSON files:\\n\")\n",
    "    for i in d.keys():\n",
    "        fname = i + '.json'\n",
    "        print(fname)\n",
    "        with open(fname, 'w') as outfile:\n",
    "            json.dump(d[i], outfile)"
   ]
  },
  {
   "cell_type": "markdown",
   "metadata": {},
   "source": [
    "### Get primitive data types"
   ]
  },
  {
   "cell_type": "code",
   "execution_count": 667,
   "metadata": {},
   "outputs": [],
   "source": [
    "def get_primitive_data_types(ele):\n",
    "    store_type = []\n",
    "    for i in ele.keys():\n",
    "        #print(ele)\n",
    "        store_type.append(type(ele[i]))\n",
    "        #print(type(ele[i]))\n",
    "    \n",
    "    filter = []\n",
    "    \n",
    "    for j in store_type:\n",
    "        filter.append((not issubclass(j, dict) and not issubclass(j, list)))\n",
    "        \n",
    "    #return (list(compress(ele.keys(), filter)))\n",
    "    new_dict = { your_key: ele[your_key] for your_key in list(compress(ele.keys(), filter)) }\n",
    "    \n",
    "    return new_dict"
   ]
  },
  {
   "cell_type": "markdown",
   "metadata": {},
   "source": [
    "### Test for primitive data types"
   ]
  },
  {
   "cell_type": "code",
   "execution_count": 668,
   "metadata": {},
   "outputs": [
    {
     "data": {
      "text/plain": [
       "{'borough': 'Bronx',\n",
       " 'cuisine': 'Bakery',\n",
       " 'id': '58b868503c6f4d322fa8f552',\n",
       " 'name': 'Morris Park Bake Shop'}"
      ]
     },
     "execution_count": 668,
     "metadata": {},
     "output_type": "execute_result"
    }
   ],
   "source": [
    "data = json.load(open('restaurants.json'))\n",
    "\n",
    "get_primitive_data_types(data['restaurants'][0])\n"
   ]
  },
  {
   "cell_type": "markdown",
   "metadata": {},
   "source": [
    "### Flatten JSON"
   ]
  },
  {
   "cell_type": "code",
   "execution_count": 669,
   "metadata": {},
   "outputs": [],
   "source": [
    "def flatten_json(d,parent_key=None):\n",
    "    \n",
    "    # The topmost parent obtained here\n",
    "    if parent_key == None:\n",
    "        parent_key = list(data.keys())[0] \n",
    "    \n",
    "    for k,v in d.items():\n",
    "        \n",
    "        if k != parent_key:\n",
    "            new_parent_key = parent_key+'_'+k\n",
    "        else:\n",
    "            new_parent_key = k\n",
    "            \n",
    "        # Handle an incoming list\n",
    "        if isinstance(v, list):    \n",
    "            for k in range(0, len(v)):\n",
    "                #print(k)\n",
    "                print(\"\\nA list --> [\",new_parent_key,\"]\", get_primitive_data_types(v[k]), '\\n')\n",
    "\n",
    "                # Store the data in memory\n",
    "                store_dict(new_parent_key, get_primitive_data_types(v[k]))\n",
    "\n",
    "            for i in range(1,len(v)+1):\n",
    "                flatten_json(v[i-1], new_parent_key)\n",
    "       \n",
    "        # Handle an incoming dict\n",
    "        elif isinstance(v, dict):\n",
    "            print(\"A dict --> [\",new_parent_key,\"]\", v, '\\n')\n",
    "            \n",
    "            flatten_json(v, new_parent_key)\n",
    "      "
   ]
  },
  {
   "cell_type": "markdown",
   "metadata": {},
   "source": [
    "### Test flatten JSON and write to files"
   ]
  },
  {
   "cell_type": "code",
   "execution_count": 670,
   "metadata": {},
   "outputs": [
    {
     "name": "stdout",
     "output_type": "stream",
     "text": [
      "\n",
      "A list --> [ restaurants ] {'id': '58b868503c6f4d322fa8f552', 'borough': 'Bronx', 'cuisine': 'Bakery', 'name': 'Morris Park Bake Shop'} \n",
      "\n",
      "restaurants\n",
      "{'id': '58b868503c6f4d322fa8f552', 'borough': 'Bronx', 'cuisine': 'Bakery', 'name': 'Morris Park Bake Shop'}\n",
      "A dict --> [ restaurants_address ] {'building': '1007', 'coord': '[-73.856077, 40.848447]', 'street': 'Morris Park Ave', 'zipcode': '10462'} \n",
      "\n",
      "\n",
      "A list --> [ restaurants_grades ] {'date': '2014-03-03T00:00:00.000Z', 'grade': 'A'} \n",
      "\n",
      "restaurants_grades\n",
      "{'date': '2014-03-03T00:00:00.000Z', 'grade': 'A'}\n",
      "\n",
      "A list --> [ restaurants_grades ] {'date': '2011-11-23T00:00:00.000Z', 'grade': 'A'} \n",
      "\n",
      "restaurants_grades\n",
      "{'date': '2011-11-23T00:00:00.000Z', 'grade': 'A'}\n",
      "Appended list for key restaurants_grades  -->  [[{'date': '2014-03-03T00:00:00.000Z', 'grade': 'A'}], {'date': '2011-11-23T00:00:00.000Z', 'grade': 'A'}]\n",
      "A dict --> [ restaurants_grades_score ] {'x': 1, 'y': 2} \n",
      "\n",
      "A dict --> [ restaurants_grades_score ] {'x': 11, 'y': 22} \n",
      "\n"
     ]
    }
   ],
   "source": [
    "store_data = {}\n",
    "\n",
    "flatten_json(data)\n",
    "\n",
    "\n",
    "#write_JSON_files(store_data)"
   ]
  },
  {
   "cell_type": "markdown",
   "metadata": {},
   "source": [
    "### Test the JSON stored data in memory (see contents)"
   ]
  },
  {
   "cell_type": "code",
   "execution_count": 672,
   "metadata": {},
   "outputs": [
    {
     "name": "stdout",
     "output_type": "stream",
     "text": [
      "{\n",
      "  \"restaurants\": [\n",
      "    {\n",
      "      \"id\": \"58b868503c6f4d322fa8f552\",\n",
      "      \"borough\": \"Bronx\",\n",
      "      \"cuisine\": \"Bakery\",\n",
      "      \"name\": \"Morris Park Bake Shop\"\n",
      "    }\n",
      "  ],\n",
      "  \"restaurants_grades\": [\n",
      "    [\n",
      "      {\n",
      "        \"date\": \"2014-03-03T00:00:00.000Z\",\n",
      "        \"grade\": \"A\"\n",
      "      }\n",
      "    ],\n",
      "    {\n",
      "      \"date\": \"2011-11-23T00:00:00.000Z\",\n",
      "      \"grade\": \"A\"\n",
      "    }\n",
      "  ]\n",
      "}\n"
     ]
    }
   ],
   "source": [
    "print(json.dumps(store_data, indent=2))"
   ]
  },
  {
   "cell_type": "markdown",
   "metadata": {},
   "source": [
    "### Test writing to files"
   ]
  },
  {
   "cell_type": "code",
   "execution_count": 491,
   "metadata": {},
   "outputs": [
    {
     "name": "stdout",
     "output_type": "stream",
     "text": [
      "restaurants.json\n",
      "restaurants_grades.json\n"
     ]
    }
   ],
   "source": [
    "write_JSON_files(store_data)"
   ]
  },
  {
   "cell_type": "code",
   "execution_count": null,
   "metadata": {},
   "outputs": [],
   "source": []
  }
 ],
 "metadata": {
  "kernelspec": {
   "display_name": "Python 3",
   "language": "python",
   "name": "python3"
  },
  "language_info": {
   "codemirror_mode": {
    "name": "ipython",
    "version": 3
   },
   "file_extension": ".py",
   "mimetype": "text/x-python",
   "name": "python",
   "nbconvert_exporter": "python",
   "pygments_lexer": "ipython3",
   "version": "3.6.0"
  }
 },
 "nbformat": 4,
 "nbformat_minor": 2
}
